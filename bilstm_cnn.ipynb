{
 "cells": [
  {
   "cell_type": "code",
   "execution_count": 1,
   "metadata": {
    "colab": {
     "base_uri": "https://localhost:8080/"
    },
    "executionInfo": {
     "elapsed": 2832,
     "status": "ok",
     "timestamp": 1639364142997,
     "user": {
      "displayName": "colab google",
      "photoUrl": "https://lh3.googleusercontent.com/a/default-user=s64",
      "userId": "15243667049266710387"
     },
     "user_tz": -420
    },
    "id": "hgQ75WlWqUCf",
    "outputId": "2ff3b758-279c-4a2e-a2b0-15f5cc2de85c"
   },
   "outputs": [
    {
     "name": "stdout",
     "output_type": "stream",
     "text": [
      "Drive already mounted at /content/drive; to attempt to forcibly remount, call drive.mount(\"/content/drive\", force_remount=True).\n"
     ]
    }
   ],
   "source": [
    "from google.colab import drive\n",
    "drive.mount('/content/drive')"
   ]
  },
  {
   "cell_type": "code",
   "execution_count": 2,
   "metadata": {
    "colab": {
     "base_uri": "https://localhost:8080/"
    },
    "executionInfo": {
     "elapsed": 502,
     "status": "ok",
     "timestamp": 1639364146668,
     "user": {
      "displayName": "colab google",
      "photoUrl": "https://lh3.googleusercontent.com/a/default-user=s64",
      "userId": "15243667049266710387"
     },
     "user_tz": -420
    },
    "id": "Lhsb1kGMxWHK",
    "outputId": "38a6d024-0d51-45f7-c8b9-a00f03811443"
   },
   "outputs": [
    {
     "name": "stdout",
     "output_type": "stream",
     "text": [
      "/content/drive/MyDrive/ner\n"
     ]
    }
   ],
   "source": [
    "cd /content/drive/MyDrive/ner"
   ]
  },
  {
   "cell_type": "code",
   "execution_count": 3,
   "metadata": {
    "executionInfo": {
     "elapsed": 3290,
     "status": "ok",
     "timestamp": 1639364150532,
     "user": {
      "displayName": "colab google",
      "photoUrl": "https://lh3.googleusercontent.com/a/default-user=s64",
      "userId": "15243667049266710387"
     },
     "user_tz": -420
    },
    "id": "iPKCPJmV5qM7"
   },
   "outputs": [],
   "source": [
    "import torch\n",
    "import torch.nn as nn\n",
    "import torch.optim as optim\n",
    "import spacy\n",
    "import time\n",
    "import random\n",
    "import pandas as pd\n",
    "import torch.nn.functional as F\n",
    "from torchtext.legacy import data, datasets"
   ]
  },
  {
   "cell_type": "code",
   "execution_count": 4,
   "metadata": {
    "executionInfo": {
     "elapsed": 5,
     "status": "ok",
     "timestamp": 1639364150532,
     "user": {
      "displayName": "colab google",
      "photoUrl": "https://lh3.googleusercontent.com/a/default-user=s64",
      "userId": "15243667049266710387"
     },
     "user_tz": -420
    },
    "id": "1tllm0MLxGEG"
   },
   "outputs": [],
   "source": [
    "def readfile(filename, *, encoding=\"UTF8\"):\n",
    "    '''\n",
    "    read file\n",
    "    return format :\n",
    "    [ ['EU', 'B-ORG'], ['rejects', 'O'], ['German', 'B-MISC'], ['call', 'O'], ['to', 'O'], ['boycott', 'O'], ['British', 'B-MISC'], ['lamb', 'O'], ['.', 'O'] ]\n",
    "    '''\n",
    "    with open(filename, mode='r', encoding=encoding) as f:\n",
    "        sentences = []\n",
    "        sentence = []\n",
    "        for line in f:\n",
    "            if len(line) == 0 or line.startswith('-DOCSTART') or line[0] == \"\\n\":   \n",
    "                if len(sentence) > 0:\n",
    "                    sentences.append(sentence)\n",
    "                    sentence = []\n",
    "                continue\n",
    "            splits = line.split(' ')\n",
    "            sentence.append([splits[0], splits[-1]])\n",
    "\n",
    "    if len(sentence) > 0:\n",
    "        sentences.append(sentence)\n",
    "        sentence = []\n",
    "    return sentences"
   ]
  },
  {
   "cell_type": "code",
   "execution_count": 5,
   "metadata": {
    "executionInfo": {
     "elapsed": 641,
     "status": "ok",
     "timestamp": 1639364151169,
     "user": {
      "displayName": "colab google",
      "photoUrl": "https://lh3.googleusercontent.com/a/default-user=s64",
      "userId": "15243667049266710387"
     },
     "user_tz": -420
    },
    "id": "zXX1LgfRzZ1h"
   },
   "outputs": [],
   "source": [
    "train_data = readfile('conll2003/train.txt')\n",
    "valid_data = readfile('conll2003/valid.txt')\n",
    "test_data = readfile('conll2003/test.txt')"
   ]
  },
  {
   "cell_type": "code",
   "execution_count": 6,
   "metadata": {
    "colab": {
     "base_uri": "https://localhost:8080/"
    },
    "executionInfo": {
     "elapsed": 12,
     "status": "ok",
     "timestamp": 1639364151170,
     "user": {
      "displayName": "colab google",
      "photoUrl": "https://lh3.googleusercontent.com/a/default-user=s64",
      "userId": "15243667049266710387"
     },
     "user_tz": -420
    },
    "id": "y_SPsOyBzsQN",
    "outputId": "a01f8e1c-d97e-4f68-ce36-1ccf5dff3bd1"
   },
   "outputs": [
    {
     "name": "stdout",
     "output_type": "stream",
     "text": [
      "14041\n",
      "3250\n",
      "3453\n"
     ]
    }
   ],
   "source": [
    "print(len(train_data))\n",
    "print(len(valid_data))\n",
    "print(len(test_data))"
   ]
  },
  {
   "cell_type": "code",
   "execution_count": 7,
   "metadata": {
    "colab": {
     "base_uri": "https://localhost:8080/"
    },
    "executionInfo": {
     "elapsed": 11,
     "status": "ok",
     "timestamp": 1639364151170,
     "user": {
      "displayName": "colab google",
      "photoUrl": "https://lh3.googleusercontent.com/a/default-user=s64",
      "userId": "15243667049266710387"
     },
     "user_tz": -420
    },
    "id": "jb0hGWp_zx1L",
    "outputId": "717fb7fa-732a-42f9-f239-6b0004470784"
   },
   "outputs": [
    {
     "data": {
      "text/plain": [
       "[['EU', 'B-ORG\\n'],\n",
       " ['rejects', 'O\\n'],\n",
       " ['German', 'B-MISC\\n'],\n",
       " ['call', 'O\\n'],\n",
       " ['to', 'O\\n'],\n",
       " ['boycott', 'O\\n'],\n",
       " ['British', 'B-MISC\\n'],\n",
       " ['lamb', 'O\\n'],\n",
       " ['.', 'O\\n']]"
      ]
     },
     "execution_count": 7,
     "metadata": {},
     "output_type": "execute_result"
    }
   ],
   "source": [
    "train_data[0]"
   ]
  },
  {
   "cell_type": "code",
   "execution_count": 8,
   "metadata": {
    "executionInfo": {
     "elapsed": 9,
     "status": "ok",
     "timestamp": 1639364151171,
     "user": {
      "displayName": "colab google",
      "photoUrl": "https://lh3.googleusercontent.com/a/default-user=s64",
      "userId": "15243667049266710387"
     },
     "user_tz": -420
    },
    "id": "qCC2gQBrz0LT"
   },
   "outputs": [],
   "source": [
    "def clean_data(dataset):\n",
    "    for sent in dataset:\n",
    "        for word in sent:\n",
    "            word[-1] = word[-1].strip('\\n')\n",
    "    return dataset"
   ]
  },
  {
   "cell_type": "code",
   "execution_count": 9,
   "metadata": {
    "executionInfo": {
     "elapsed": 9,
     "status": "ok",
     "timestamp": 1639364151171,
     "user": {
      "displayName": "colab google",
      "photoUrl": "https://lh3.googleusercontent.com/a/default-user=s64",
      "userId": "15243667049266710387"
     },
     "user_tz": -420
    },
    "id": "lq8Ie-RL3X9s"
   },
   "outputs": [],
   "source": [
    "train_data = clean_data(train_data)\n",
    "valid_data = clean_data(valid_data)\n",
    "test_data = clean_data(test_data)"
   ]
  },
  {
   "cell_type": "code",
   "execution_count": 10,
   "metadata": {
    "colab": {
     "base_uri": "https://localhost:8080/"
    },
    "executionInfo": {
     "elapsed": 9,
     "status": "ok",
     "timestamp": 1639364151172,
     "user": {
      "displayName": "colab google",
      "photoUrl": "https://lh3.googleusercontent.com/a/default-user=s64",
      "userId": "15243667049266710387"
     },
     "user_tz": -420
    },
    "id": "kjSm1-1Kdq15",
    "outputId": "f832956e-1e79-4daf-f3d7-15844452a289"
   },
   "outputs": [
    {
     "data": {
      "text/plain": [
       "[['EU', 'B-ORG'],\n",
       " ['rejects', 'O'],\n",
       " ['German', 'B-MISC'],\n",
       " ['call', 'O'],\n",
       " ['to', 'O'],\n",
       " ['boycott', 'O'],\n",
       " ['British', 'B-MISC'],\n",
       " ['lamb', 'O'],\n",
       " ['.', 'O']]"
      ]
     },
     "execution_count": 10,
     "metadata": {},
     "output_type": "execute_result"
    }
   ],
   "source": [
    "train_data[0]"
   ]
  },
  {
   "cell_type": "code",
   "execution_count": 11,
   "metadata": {
    "executionInfo": {
     "elapsed": 7,
     "status": "ok",
     "timestamp": 1639364152057,
     "user": {
      "displayName": "colab google",
      "photoUrl": "https://lh3.googleusercontent.com/a/default-user=s64",
      "userId": "15243667049266710387"
     },
     "user_tz": -420
    },
    "id": "dE7Tyb8WgpYo"
   },
   "outputs": [],
   "source": [
    "SEED = 0\n",
    "\n",
    "random.seed(SEED)\n",
    "torch.manual_seed(SEED)\n",
    "torch.backends.cudnn.deterministic = True"
   ]
  },
  {
   "cell_type": "code",
   "execution_count": 12,
   "metadata": {
    "executionInfo": {
     "elapsed": 6,
     "status": "ok",
     "timestamp": 1639364152057,
     "user": {
      "displayName": "colab google",
      "photoUrl": "https://lh3.googleusercontent.com/a/default-user=s64",
      "userId": "15243667049266710387"
     },
     "user_tz": -420
    },
    "id": "3v98968siMHV"
   },
   "outputs": [],
   "source": [
    "def getCasing(word):\n",
    "    casing = 'other'\n",
    "\n",
    "    numDigits = 0\n",
    "    for char in word:\n",
    "        if char.isdigit():\n",
    "            numDigits += 1\n",
    "\n",
    "    digitFraction = numDigits / float(len(word))\n",
    "\n",
    "    if word.isdigit():  \n",
    "        casing = 'numeric'\n",
    "    elif digitFraction > 0.5:\n",
    "        casing = 'mainly_numeric'\n",
    "    elif word.islower():  \n",
    "        casing = 'allLower'\n",
    "    elif word.isupper(): \n",
    "        casing = 'allUpper'\n",
    "    elif word[0].isupper():  \n",
    "        casing = 'initialUpper'\n",
    "    elif numDigits > 0:\n",
    "        casing = 'contains_digit'\n",
    "\n",
    "    return casing"
   ]
  },
  {
   "cell_type": "code",
   "execution_count": 13,
   "metadata": {
    "executionInfo": {
     "elapsed": 4,
     "status": "ok",
     "timestamp": 1639364152607,
     "user": {
      "displayName": "colab google",
      "photoUrl": "https://lh3.googleusercontent.com/a/default-user=s64",
      "userId": "15243667049266710387"
     },
     "user_tz": -420
    },
    "id": "3AcSDIBYsUMg"
   },
   "outputs": [],
   "source": [
    "def split_data(dataset):\n",
    "    text = []\n",
    "    label = []\n",
    "    casing = []\n",
    "    for sent in dataset:\n",
    "        text.append(' '.join([word[0] for word in sent]))\n",
    "        casing.append(' '.join([getCasing(word[0]) for word in sent]))\n",
    "        label.append(' '.join([word[-1] for word in sent]))\n",
    "    return text, casing, label"
   ]
  },
  {
   "cell_type": "code",
   "execution_count": 14,
   "metadata": {
    "executionInfo": {
     "elapsed": 3,
     "status": "ok",
     "timestamp": 1639364153182,
     "user": {
      "displayName": "colab google",
      "photoUrl": "https://lh3.googleusercontent.com/a/default-user=s64",
      "userId": "15243667049266710387"
     },
     "user_tz": -420
    },
    "id": "jPjbBC350RhI"
   },
   "outputs": [],
   "source": [
    "train_text, train_casing, train_label = split_data(train_data)\n",
    "valid_text, valid_casing, valid_label = split_data(valid_data)\n",
    "test_text, test_casing, test_label = split_data(test_data)"
   ]
  },
  {
   "cell_type": "code",
   "execution_count": 15,
   "metadata": {
    "colab": {
     "base_uri": "https://localhost:8080/",
     "height": 206
    },
    "executionInfo": {
     "elapsed": 7,
     "status": "ok",
     "timestamp": 1639364154351,
     "user": {
      "displayName": "colab google",
      "photoUrl": "https://lh3.googleusercontent.com/a/default-user=s64",
      "userId": "15243667049266710387"
     },
     "user_tz": -420
    },
    "id": "aZwpacK215Zc",
    "outputId": "ef0d047d-91f3-4a21-b653-4916de6d28a4"
   },
   "outputs": [
    {
     "data": {
      "text/html": [
       "<div>\n",
       "<style scoped>\n",
       "    .dataframe tbody tr th:only-of-type {\n",
       "        vertical-align: middle;\n",
       "    }\n",
       "\n",
       "    .dataframe tbody tr th {\n",
       "        vertical-align: top;\n",
       "    }\n",
       "\n",
       "    .dataframe thead th {\n",
       "        text-align: right;\n",
       "    }\n",
       "</style>\n",
       "<table border=\"1\" class=\"dataframe\">\n",
       "  <thead>\n",
       "    <tr style=\"text-align: right;\">\n",
       "      <th></th>\n",
       "      <th>text</th>\n",
       "      <th>casing</th>\n",
       "      <th>label</th>\n",
       "    </tr>\n",
       "  </thead>\n",
       "  <tbody>\n",
       "    <tr>\n",
       "      <th>0</th>\n",
       "      <td>EU rejects German call to boycott British lamb .</td>\n",
       "      <td>allUpper allLower initialUpper allLower allLow...</td>\n",
       "      <td>B-ORG O B-MISC O O O B-MISC O O</td>\n",
       "    </tr>\n",
       "    <tr>\n",
       "      <th>1</th>\n",
       "      <td>Peter Blackburn</td>\n",
       "      <td>initialUpper initialUpper</td>\n",
       "      <td>B-PER I-PER</td>\n",
       "    </tr>\n",
       "    <tr>\n",
       "      <th>2</th>\n",
       "      <td>BRUSSELS 1996-08-22</td>\n",
       "      <td>allUpper mainly_numeric</td>\n",
       "      <td>B-LOC O</td>\n",
       "    </tr>\n",
       "    <tr>\n",
       "      <th>3</th>\n",
       "      <td>The European Commission said on Thursday it di...</td>\n",
       "      <td>initialUpper initialUpper initialUpper allLowe...</td>\n",
       "      <td>O B-ORG I-ORG O O O O O O B-MISC O O O O O B-M...</td>\n",
       "    </tr>\n",
       "    <tr>\n",
       "      <th>4</th>\n",
       "      <td>Germany 's representative to the European Unio...</td>\n",
       "      <td>initialUpper allLower allLower allLower allLow...</td>\n",
       "      <td>B-LOC O O O O B-ORG I-ORG O O O B-PER I-PER O ...</td>\n",
       "    </tr>\n",
       "  </tbody>\n",
       "</table>\n",
       "</div>"
      ],
      "text/plain": [
       "                                                text  ...                                              label\n",
       "0   EU rejects German call to boycott British lamb .  ...                    B-ORG O B-MISC O O O B-MISC O O\n",
       "1                                    Peter Blackburn  ...                                        B-PER I-PER\n",
       "2                                BRUSSELS 1996-08-22  ...                                            B-LOC O\n",
       "3  The European Commission said on Thursday it di...  ...  O B-ORG I-ORG O O O O O O B-MISC O O O O O B-M...\n",
       "4  Germany 's representative to the European Unio...  ...  B-LOC O O O O B-ORG I-ORG O O O B-PER I-PER O ...\n",
       "\n",
       "[5 rows x 3 columns]"
      ]
     },
     "execution_count": 15,
     "metadata": {},
     "output_type": "execute_result"
    }
   ],
   "source": [
    "train_df = pd.DataFrame({'text' : train_text, 'casing' : train_casing, 'label' : train_label})\n",
    "valid_df = pd.DataFrame({'text' : valid_text, 'casing' : valid_casing, 'label' : valid_label})\n",
    "test_df = pd.DataFrame({'text' : test_text, 'casing': test_casing, 'label' : test_label})\n",
    "\n",
    "train_df.head(5)"
   ]
  },
  {
   "cell_type": "code",
   "execution_count": 16,
   "metadata": {
    "executionInfo": {
     "elapsed": 3,
     "status": "ok",
     "timestamp": 1639364154918,
     "user": {
      "displayName": "colab google",
      "photoUrl": "https://lh3.googleusercontent.com/a/default-user=s64",
      "userId": "15243667049266710387"
     },
     "user_tz": -420
    },
    "id": "2MDdJ1Qag1kD"
   },
   "outputs": [],
   "source": [
    "train_df.to_csv('data/train.csv')\n",
    "valid_df.to_csv('data/valid.csv')\n",
    "test_df.to_csv('data/test.csv')"
   ]
  },
  {
   "cell_type": "code",
   "execution_count": 17,
   "metadata": {
    "executionInfo": {
     "elapsed": 3,
     "status": "ok",
     "timestamp": 1639364154919,
     "user": {
      "displayName": "colab google",
      "photoUrl": "https://lh3.googleusercontent.com/a/default-user=s64",
      "userId": "15243667049266710387"
     },
     "user_tz": -420
    },
    "id": "5slYSE2C2GAC"
   },
   "outputs": [],
   "source": [
    "TEXT = data.Field()\n",
    "NESTING_CHAR = data.Field(tokenize=list)\n",
    "CHAR = data.NestedField(NESTING_CHAR)\n",
    "CASING = data.Field(unk_token = None)\n",
    "LABEL = data.Field(unk_token = None)\n",
    "fields = ((None, None), (('text', 'char'), (TEXT, CHAR)), ('casing', CASING), ('label', LABEL))"
   ]
  },
  {
   "cell_type": "code",
   "execution_count": 18,
   "metadata": {
    "executionInfo": {
     "elapsed": 813,
     "status": "ok",
     "timestamp": 1639364156692,
     "user": {
      "displayName": "colab google",
      "photoUrl": "https://lh3.googleusercontent.com/a/default-user=s64",
      "userId": "15243667049266710387"
     },
     "user_tz": -420
    },
    "id": "8raWQpRH43ej"
   },
   "outputs": [],
   "source": [
    "train_data, valid_data, test_data = data.TabularDataset.splits(\n",
    "                                        path = 'data',\n",
    "                                        train = 'train.csv',\n",
    "                                        validation = 'valid.csv',\n",
    "                                        test = 'test.csv',\n",
    "                                        format = 'csv',\n",
    "                                        fields = fields,\n",
    "                                        skip_header = True\n",
    ")"
   ]
  },
  {
   "cell_type": "code",
   "execution_count": 19,
   "metadata": {
    "colab": {
     "base_uri": "https://localhost:8080/"
    },
    "executionInfo": {
     "elapsed": 4,
     "status": "ok",
     "timestamp": 1639364156693,
     "user": {
      "displayName": "colab google",
      "photoUrl": "https://lh3.googleusercontent.com/a/default-user=s64",
      "userId": "15243667049266710387"
     },
     "user_tz": -420
    },
    "id": "eo_ucqxR5nmq",
    "outputId": "4429bb92-6f2d-4dfd-d764-93973c312c97"
   },
   "outputs": [
    {
     "data": {
      "text/plain": [
       "{'casing': ['allUpper',\n",
       "  'allLower',\n",
       "  'initialUpper',\n",
       "  'allLower',\n",
       "  'allLower',\n",
       "  'allLower',\n",
       "  'initialUpper',\n",
       "  'allLower',\n",
       "  'other'],\n",
       " 'char': [['E', 'U'],\n",
       "  ['r', 'e', 'j', 'e', 'c', 't', 's'],\n",
       "  ['G', 'e', 'r', 'm', 'a', 'n'],\n",
       "  ['c', 'a', 'l', 'l'],\n",
       "  ['t', 'o'],\n",
       "  ['b', 'o', 'y', 'c', 'o', 't', 't'],\n",
       "  ['B', 'r', 'i', 't', 'i', 's', 'h'],\n",
       "  ['l', 'a', 'm', 'b'],\n",
       "  ['.']],\n",
       " 'label': ['B-ORG', 'O', 'B-MISC', 'O', 'O', 'O', 'B-MISC', 'O', 'O'],\n",
       " 'text': ['EU',\n",
       "  'rejects',\n",
       "  'German',\n",
       "  'call',\n",
       "  'to',\n",
       "  'boycott',\n",
       "  'British',\n",
       "  'lamb',\n",
       "  '.']}"
      ]
     },
     "execution_count": 19,
     "metadata": {},
     "output_type": "execute_result"
    }
   ],
   "source": [
    "vars(train_data[0])"
   ]
  },
  {
   "cell_type": "code",
   "execution_count": 20,
   "metadata": {
    "executionInfo": {
     "elapsed": 1484,
     "status": "ok",
     "timestamp": 1639364158559,
     "user": {
      "displayName": "colab google",
      "photoUrl": "https://lh3.googleusercontent.com/a/default-user=s64",
      "userId": "15243667049266710387"
     },
     "user_tz": -420
    },
    "id": "vMz1x_Jy5vAm"
   },
   "outputs": [],
   "source": [
    "MIN_FREQ = 2\n",
    "TEXT.build_vocab(train_data,\n",
    "                 min_freq = MIN_FREQ,\n",
    "                 vectors = 'glove.6B.50d',\n",
    "                 unk_init = torch.Tensor.normal_)\n",
    "CHAR.build_vocab(train_data)\n",
    "CASING.build_vocab(train_data)\n",
    "LABEL.build_vocab(train_data)"
   ]
  },
  {
   "cell_type": "code",
   "execution_count": 21,
   "metadata": {
    "colab": {
     "base_uri": "https://localhost:8080/"
    },
    "executionInfo": {
     "elapsed": 500,
     "status": "ok",
     "timestamp": 1639364160471,
     "user": {
      "displayName": "colab google",
      "photoUrl": "https://lh3.googleusercontent.com/a/default-user=s64",
      "userId": "15243667049266710387"
     },
     "user_tz": -420
    },
    "id": "14ZDd6gIh9uo",
    "outputId": "16c698f7-840d-4584-a260-14fbf07e7f61"
   },
   "outputs": [
    {
     "data": {
      "text/plain": [
       "{'freqs': Counter({'B-LOC': 7140,\n",
       "          'B-MISC': 3438,\n",
       "          'B-ORG': 6321,\n",
       "          'B-PER': 6600,\n",
       "          'I-LOC': 1157,\n",
       "          'I-MISC': 1155,\n",
       "          'I-ORG': 3704,\n",
       "          'I-PER': 4528,\n",
       "          'O': 169578}),\n",
       " 'itos': ['<pad>',\n",
       "  'O',\n",
       "  'B-LOC',\n",
       "  'B-PER',\n",
       "  'B-ORG',\n",
       "  'I-PER',\n",
       "  'I-ORG',\n",
       "  'B-MISC',\n",
       "  'I-LOC',\n",
       "  'I-MISC'],\n",
       " 'stoi': defaultdict(None,\n",
       "             {'<pad>': 0,\n",
       "              'B-LOC': 2,\n",
       "              'B-MISC': 7,\n",
       "              'B-ORG': 4,\n",
       "              'B-PER': 3,\n",
       "              'I-LOC': 8,\n",
       "              'I-MISC': 9,\n",
       "              'I-ORG': 6,\n",
       "              'I-PER': 5,\n",
       "              'O': 1}),\n",
       " 'unk_index': None,\n",
       " 'vectors': None}"
      ]
     },
     "execution_count": 21,
     "metadata": {},
     "output_type": "execute_result"
    }
   ],
   "source": [
    "vars(LABEL.vocab)"
   ]
  },
  {
   "cell_type": "code",
   "execution_count": 22,
   "metadata": {
    "colab": {
     "base_uri": "https://localhost:8080/"
    },
    "executionInfo": {
     "elapsed": 391,
     "status": "ok",
     "timestamp": 1639364162298,
     "user": {
      "displayName": "colab google",
      "photoUrl": "https://lh3.googleusercontent.com/a/default-user=s64",
      "userId": "15243667049266710387"
     },
     "user_tz": -420
    },
    "id": "ntUnrMADpgc9",
    "outputId": "81a8e8cd-c735-434f-e138-9cdbadd4aa22"
   },
   "outputs": [
    {
     "data": {
      "text/plain": [
       "{'freqs': Counter({'allLower': 114337,\n",
       "          'allUpper': 8184,\n",
       "          'contains_digit': 695,\n",
       "          'initialUpper': 36765,\n",
       "          'mainly_numeric': 6087,\n",
       "          'numeric': 11606,\n",
       "          'other': 25947}),\n",
       " 'itos': ['<pad>',\n",
       "  'allLower',\n",
       "  'initialUpper',\n",
       "  'other',\n",
       "  'numeric',\n",
       "  'allUpper',\n",
       "  'mainly_numeric',\n",
       "  'contains_digit'],\n",
       " 'stoi': defaultdict(None,\n",
       "             {'<pad>': 0,\n",
       "              'allLower': 1,\n",
       "              'allUpper': 5,\n",
       "              'contains_digit': 7,\n",
       "              'initialUpper': 2,\n",
       "              'mainly_numeric': 6,\n",
       "              'numeric': 4,\n",
       "              'other': 3}),\n",
       " 'unk_index': None,\n",
       " 'vectors': None}"
      ]
     },
     "execution_count": 22,
     "metadata": {},
     "output_type": "execute_result"
    }
   ],
   "source": [
    "vars(CASING.vocab)"
   ]
  },
  {
   "cell_type": "code",
   "execution_count": 23,
   "metadata": {
    "executionInfo": {
     "elapsed": 4,
     "status": "ok",
     "timestamp": 1639364162299,
     "user": {
      "displayName": "colab google",
      "photoUrl": "https://lh3.googleusercontent.com/a/default-user=s64",
      "userId": "15243667049266710387"
     },
     "user_tz": -420
    },
    "id": "6Bov4cwjiF-9"
   },
   "outputs": [],
   "source": [
    "BATCH_SIZE = 128\n",
    "\n",
    "device = torch.device('cuda' if torch.cuda.is_available() else 'cpu')\n",
    "train_iter, valid_iter, test_iter = data.BucketIterator.splits(\n",
    "                                        (train_data, valid_data, test_data),\n",
    "                                        sort = False,\n",
    "                                        batch_size = BATCH_SIZE,\n",
    "                                        device = device\n",
    ")"
   ]
  },
  {
   "cell_type": "code",
   "execution_count": 41,
   "metadata": {
    "executionInfo": {
     "elapsed": 366,
     "status": "ok",
     "timestamp": 1639365025601,
     "user": {
      "displayName": "colab google",
      "photoUrl": "https://lh3.googleusercontent.com/a/default-user=s64",
      "userId": "15243667049266710387"
     },
     "user_tz": -420
    },
    "id": "Tferx7HgkWFE"
   },
   "outputs": [],
   "source": [
    "class BiLSTM_CNN(nn.Module):\n",
    "    def __init__(self, \n",
    "                 word_vocab_size,\n",
    "                 word_embedding_dim,\n",
    "                 word_pad_idx,\n",
    "                 char_vocab_size,\n",
    "                 char_embedding_dim,\n",
    "                 char_pad_idx,\n",
    "                 casing_vocab_size,\n",
    "                 casing_embedding_dim,\n",
    "                 casing_pad_idx, \n",
    "                 hidden_dim, \n",
    "                 output_dim, \n",
    "                 n_layers,\n",
    "                 n_filter,\n",
    "                 cnn_kernel_size, \n",
    "                 bidirectional, \n",
    "                 lstm_dropout,\n",
    "                 cnn_dropout,\n",
    "                 fc_dropout,\n",
    "                 emb_dropout):\n",
    "        super().__init__()\n",
    "        self.word_embedding = nn.Embedding(word_vocab_size, word_embedding_dim, padding_idx = word_pad_idx)   \n",
    "        self.char_embedding = nn.Embedding(char_vocab_size, char_embedding_dim, padding_idx = char_pad_idx)\n",
    "        self.casing_embedding = nn.Embedding(casing_vocab_size, casing_embedding_dim, padding_idx = casing_pad_idx)\n",
    "        self.cnn = nn.Conv1d(in_channels = char_embedding_dim, \n",
    "                             out_channels = char_embedding_dim * n_filter, \n",
    "                             kernel_size = cnn_kernel_size, \n",
    "                             groups=char_embedding_dim) \n",
    "        self.lstm = nn.LSTM(word_embedding_dim + casing_embedding_dim + char_embedding_dim * n_filter,\n",
    "                            hidden_dim,\n",
    "                            num_layers = n_layers,\n",
    "                            bidirectional = bidirectional,\n",
    "                            dropout = lstm_dropout if n_layers > 1 else 0)\n",
    "        self.fc = nn.Linear(hidden_dim * 2 if bidirectional else hidden_dim, output_dim)\n",
    "        self.fc_dropout = nn.Dropout(fc_dropout)\n",
    "        self.cnn_dropout = nn.Dropout(cnn_dropout)\n",
    "        self.emb_dropout = nn.Dropout(emb_dropout)\n",
    "          \n",
    "    def count_params(self):\n",
    "        return sum(p.numel() for p in self.parameters() if p.requires_grad)\n",
    "\n",
    "    def forward(self, text, casing, chars):\n",
    "        #text = [sent, batch_size]\n",
    "        #chars = [batch_size, sent, word]\n",
    "        word_embedded = self.emb_dropout(self.word_embedding(text))\n",
    "        #word_embedded = [sent, batch_size, word_embedding_dim]\n",
    "\n",
    "        casing_embedded = self.casing_embedding(casing)\n",
    "        #casing_embedded = [sent, batch_size, casing_embedding_dim]\n",
    "\n",
    "        char_embedded = self.emb_dropout(self.char_embedding(chars))\n",
    "        #char_embedded = [batch_size, sent, word, char_embedding]\n",
    "        (batch_size, sent, word, char_emb_dim) = char_embedded.shape\n",
    "        char_cnn_max_out = torch.zeros(batch_size, sent, self.cnn.out_channels).to(device)\n",
    "        for sent_i in range(sent):\n",
    "            # sent_char_emb = [batch size, word length, char emb dim]\n",
    "            sent_char_emb = char_embedded[:, sent_i, :, :]  # get the character field of sent i\n",
    "            # sent_char_emb_p = [batch size, char emb dim, word length]\n",
    "            sent_char_emb_p = sent_char_emb.permute(0, 2, 1)  # the channel (char emb dim) has to be the last dimension\n",
    "            # char_cnn_sent_out = [batch size, out channels * char emb dim, word length - kernel size + 1]\n",
    "            char_cnn_sent_out = torch.tanh(self.cnn(sent_char_emb_p))\n",
    "            # max pooling over the word length dimension\n",
    "            char_cnn_max_out[:, sent_i, :] = F.max_pool1d(char_cnn_sent_out, char_cnn_sent_out.shape[2]).squeeze(2)\n",
    "        char_cnn = self.cnn_dropout(char_cnn_max_out)\n",
    "        # concat word and char embedding\n",
    "        # char_cnn_p = [sentence length, batch size, char emb dim * num filter]\n",
    "        char_cnn_p = char_cnn_max_out.permute(1, 0, 2)\n",
    "        embedded = torch.cat((word_embedded, casing_embedded, char_cnn_p), dim = 2)\n",
    "        outputs, (hidden, cell) = self.lstm(embedded)\n",
    "        #output = [sent len, batch size, hid dim * n directions]\n",
    "        #hidden/cell = [n layers * n directions, batch size, hid dim]\n",
    "        pred = self.fc(self.fc_dropout(outputs))\n",
    "        #pred = [sent, batch size, output dim]\n",
    "        return pred"
   ]
  },
  {
   "cell_type": "code",
   "execution_count": 42,
   "metadata": {
    "executionInfo": {
     "elapsed": 7,
     "status": "ok",
     "timestamp": 1639365027297,
     "user": {
      "displayName": "colab google",
      "photoUrl": "https://lh3.googleusercontent.com/a/default-user=s64",
      "userId": "15243667049266710387"
     },
     "user_tz": -420
    },
    "id": "6gRNS1gjm4zN"
   },
   "outputs": [],
   "source": [
    "model = BiLSTM_CNN(\n",
    "            word_vocab_size = len(TEXT.vocab),\n",
    "            word_embedding_dim = 50,\n",
    "            word_pad_idx = TEXT.vocab.stoi['<pad>'],\n",
    "            char_vocab_size = len(CHAR.vocab),\n",
    "            char_embedding_dim = 25,\n",
    "            char_pad_idx = CHAR.vocab.stoi['<pad'], \n",
    "            casing_vocab_size = len(CASING.vocab),\n",
    "            casing_embedding_dim = len(CASING.vocab),\n",
    "            casing_pad_idx = CASING.vocab.stoi['<pad>'],\n",
    "            hidden_dim = 200, \n",
    "            output_dim = len(LABEL.vocab), \n",
    "            n_layers = 2,\n",
    "            n_filter = 5,\n",
    "            cnn_kernel_size = 3, \n",
    "            bidirectional = True, \n",
    "            lstm_dropout = 0.25,\n",
    "            cnn_dropout = 0.5,\n",
    "            fc_dropout = 0.5,\n",
    "            emb_dropout = 0.5\n",
    ")"
   ]
  },
  {
   "cell_type": "code",
   "execution_count": 43,
   "metadata": {
    "colab": {
     "base_uri": "https://localhost:8080/"
    },
    "executionInfo": {
     "elapsed": 8,
     "status": "ok",
     "timestamp": 1639365029115,
     "user": {
      "displayName": "colab google",
      "photoUrl": "https://lh3.googleusercontent.com/a/default-user=s64",
      "userId": "15243667049266710387"
     },
     "user_tz": -420
    },
    "id": "ZDANtR4WoyqY",
    "outputId": "e44b2284-7c92-465e-daae-0e507b5b29ea"
   },
   "outputs": [
    {
     "data": {
      "text/plain": [
       "BiLSTM_CNN(\n",
       "  (word_embedding): Embedding(11984, 50, padding_idx=1)\n",
       "  (char_embedding): Embedding(86, 25, padding_idx=0)\n",
       "  (casing_embedding): Embedding(8, 8, padding_idx=0)\n",
       "  (cnn): Conv1d(25, 125, kernel_size=(3,), stride=(1,), groups=25)\n",
       "  (lstm): LSTM(183, 200, num_layers=2, dropout=0.25, bidirectional=True)\n",
       "  (fc): Linear(in_features=400, out_features=10, bias=True)\n",
       "  (fc_dropout): Dropout(p=0.5, inplace=False)\n",
       "  (cnn_dropout): Dropout(p=0.5, inplace=False)\n",
       "  (emb_dropout): Dropout(p=0.5, inplace=False)\n",
       ")"
      ]
     },
     "execution_count": 43,
     "metadata": {},
     "output_type": "execute_result"
    }
   ],
   "source": [
    "def init_weights(m):\n",
    "    for name, param in m.named_parameters():\n",
    "        nn.init.normal_(param.data, mean = 0, std = 0.1)\n",
    "            \n",
    "model.apply(init_weights)"
   ]
  },
  {
   "cell_type": "code",
   "execution_count": 44,
   "metadata": {
    "colab": {
     "base_uri": "https://localhost:8080/"
    },
    "executionInfo": {
     "elapsed": 10,
     "status": "ok",
     "timestamp": 1639365030297,
     "user": {
      "displayName": "colab google",
      "photoUrl": "https://lh3.googleusercontent.com/a/default-user=s64",
      "userId": "15243667049266710387"
     },
     "user_tz": -420
    },
    "id": "Mf_PWtSgpEF6",
    "outputId": "4a95a5a9-c23c-47d7-d1af-7f9bc525e222"
   },
   "outputs": [
    {
     "name": "stdout",
     "output_type": "stream",
     "text": [
      "The model has 2,185,124 trainable parameters\n"
     ]
    }
   ],
   "source": [
    "print(f'The model has {model.count_params():,} trainable parameters')"
   ]
  },
  {
   "cell_type": "code",
   "execution_count": 45,
   "metadata": {
    "executionInfo": {
     "elapsed": 10,
     "status": "ok",
     "timestamp": 1639365031570,
     "user": {
      "displayName": "colab google",
      "photoUrl": "https://lh3.googleusercontent.com/a/default-user=s64",
      "userId": "15243667049266710387"
     },
     "user_tz": -420
    },
    "id": "DXIpTH6epYEa"
   },
   "outputs": [],
   "source": [
    "pretrained_embeddings = TEXT.vocab.vectors\n",
    "model.word_embedding.weight.data.copy_(pretrained_embeddings)\n",
    "model.word_embedding.weight.data[TEXT.vocab.stoi['<pad>']] = torch.zeros(50)\n",
    "model.char_embedding.weight.data[CHAR.vocab.stoi['<pad>']] = torch.zeros(25)\n",
    "model.casing_embedding.weight.data[CASING.vocab.stoi['<pad>']] = torch.zeros(8)"
   ]
  },
  {
   "cell_type": "code",
   "execution_count": 46,
   "metadata": {
    "colab": {
     "base_uri": "https://localhost:8080/"
    },
    "executionInfo": {
     "elapsed": 4,
     "status": "ok",
     "timestamp": 1639365032998,
     "user": {
      "displayName": "colab google",
      "photoUrl": "https://lh3.googleusercontent.com/a/default-user=s64",
      "userId": "15243667049266710387"
     },
     "user_tz": -420
    },
    "id": "fnvCN5-5p7BP",
    "outputId": "456f4b86-d097-4f4f-ba71-54c9ae71b432"
   },
   "outputs": [
    {
     "data": {
      "text/plain": [
       "CrossEntropyLoss()"
      ]
     },
     "execution_count": 46,
     "metadata": {},
     "output_type": "execute_result"
    }
   ],
   "source": [
    "optimizer = optim.Adam(model.parameters(), lr =  0.0105)\n",
    "criterion = nn.CrossEntropyLoss(ignore_index = LABEL.vocab.stoi['<pad>'])\n",
    "model.to(device)\n",
    "criterion.to(device)"
   ]
  },
  {
   "cell_type": "code",
   "execution_count": 47,
   "metadata": {
    "executionInfo": {
     "elapsed": 3,
     "status": "ok",
     "timestamp": 1639365034684,
     "user": {
      "displayName": "colab google",
      "photoUrl": "https://lh3.googleusercontent.com/a/default-user=s64",
      "userId": "15243667049266710387"
     },
     "user_tz": -420
    },
    "id": "po4lmXX9qiKb"
   },
   "outputs": [],
   "source": [
    "def categorical_accuracy(preds, y, tag_pad_idx):\n",
    "    \"\"\"\n",
    "    Returns accuracy per batch, i.e. if you get 8/10 right, this returns 0.8, NOT 8\n",
    "    \"\"\"\n",
    "    max_preds = preds.argmax(dim = 1, keepdim = True) # get the index of the max probability\n",
    "    non_pad_elements = (y != tag_pad_idx).nonzero()\n",
    "    correct = max_preds[non_pad_elements].squeeze(1).eq(y[non_pad_elements])\n",
    "    return correct.sum() / y[non_pad_elements].shape[0]"
   ]
  },
  {
   "cell_type": "code",
   "execution_count": 48,
   "metadata": {
    "executionInfo": {
     "elapsed": 2,
     "status": "ok",
     "timestamp": 1639365035568,
     "user": {
      "displayName": "colab google",
      "photoUrl": "https://lh3.googleusercontent.com/a/default-user=s64",
      "userId": "15243667049266710387"
     },
     "user_tz": -420
    },
    "id": "Rf9VN0dorWTa"
   },
   "outputs": [],
   "source": [
    "def train(model, iter, optimizer, criterion, tag_pad_idx):\n",
    "    epoch_loss = 0\n",
    "    epoch_acc = 0\n",
    "    model.train()\n",
    "\n",
    "    for batch in iter:\n",
    "        text = batch.text\n",
    "        chars = batch.char\n",
    "        casing = batch.casing\n",
    "        label = batch.label\n",
    "         #text = [sent len, batch size]\n",
    "         #char = [batch, sent, word]\n",
    "         #casing = [sent len, batch size]\n",
    "        optimizer.zero_grad()\n",
    "        pred = model(text, casing, chars)\n",
    "        #pred = [sent len, batch size, output dim]\n",
    "        #label = [sent len, batch size]\n",
    "        pred = pred.view(-1, pred.shape[-1])\n",
    "        #pred = [sent len * batch_size, output dim]\n",
    "        label = label.view(-1)\n",
    "        #label = [sent len * batch_size]\n",
    "        loss = criterion(pred, label)\n",
    "        acc = categorical_accuracy(pred, label, tag_pad_idx)\n",
    "\n",
    "        loss.backward()\n",
    "        optimizer.step()\n",
    "\n",
    "        epoch_loss += loss.item()\n",
    "        epoch_acc += acc.item()\n",
    "    \n",
    "    return epoch_loss / len(iter), epoch_acc / len(iter)"
   ]
  },
  {
   "cell_type": "code",
   "execution_count": 49,
   "metadata": {
    "executionInfo": {
     "elapsed": 3,
     "status": "ok",
     "timestamp": 1639365035947,
     "user": {
      "displayName": "colab google",
      "photoUrl": "https://lh3.googleusercontent.com/a/default-user=s64",
      "userId": "15243667049266710387"
     },
     "user_tz": -420
    },
    "id": "jiydQX-Jvvj8"
   },
   "outputs": [],
   "source": [
    "def evaluate(model, iter, criterion, tag_pad_idx): \n",
    "    epoch_loss = 0\n",
    "    epoch_acc = 0  \n",
    "    model.eval()\n",
    "    \n",
    "    with torch.no_grad():\n",
    "        for batch in iter:\n",
    "            text = batch.text\n",
    "            casing = batch.casing\n",
    "            label = batch.label\n",
    "            chars = batch.char\n",
    "            \n",
    "            pred = model(text, casing, chars)\n",
    "            \n",
    "            pred = pred.view(-1, pred.shape[-1])\n",
    "            label = label.view(-1)\n",
    "            \n",
    "            loss = criterion(pred, label)\n",
    "            \n",
    "            acc = categorical_accuracy(pred, label, tag_pad_idx)\n",
    "\n",
    "            epoch_loss += loss.item()\n",
    "            epoch_acc += acc.item()\n",
    "        \n",
    "    return epoch_loss / len(iter), epoch_acc / len(iter)"
   ]
  },
  {
   "cell_type": "code",
   "execution_count": 50,
   "metadata": {
    "executionInfo": {
     "elapsed": 3,
     "status": "ok",
     "timestamp": 1639365036403,
     "user": {
      "displayName": "colab google",
      "photoUrl": "https://lh3.googleusercontent.com/a/default-user=s64",
      "userId": "15243667049266710387"
     },
     "user_tz": -420
    },
    "id": "mYPICvIJwVV0"
   },
   "outputs": [],
   "source": [
    "def epoch_time(start_time, end_time):\n",
    "    elapsed_time = end_time - start_time\n",
    "    elapsed_mins = int(elapsed_time / 60)\n",
    "    elapsed_secs = int(elapsed_time - elapsed_mins * 60)\n",
    "    return elapsed_mins, elapsed_secs"
   ]
  },
  {
   "cell_type": "code",
   "execution_count": 51,
   "metadata": {
    "executionInfo": {
     "elapsed": 5,
     "status": "ok",
     "timestamp": 1639365037810,
     "user": {
      "displayName": "colab google",
      "photoUrl": "https://lh3.googleusercontent.com/a/default-user=s64",
      "userId": "15243667049266710387"
     },
     "user_tz": -420
    },
    "id": "jds3I3w07D0t"
   },
   "outputs": [],
   "source": [
    "EPOCH = 20\n",
    "PATH = '/content/drive/MyDrive/ner/bilstm_cnn.pt'\n",
    "best_valid_loss = float('inf')"
   ]
  },
  {
   "cell_type": "code",
   "execution_count": 52,
   "metadata": {
    "colab": {
     "base_uri": "https://localhost:8080/"
    },
    "executionInfo": {
     "elapsed": 473845,
     "status": "ok",
     "timestamp": 1639365515987,
     "user": {
      "displayName": "colab google",
      "photoUrl": "https://lh3.googleusercontent.com/a/default-user=s64",
      "userId": "15243667049266710387"
     },
     "user_tz": -420
    },
    "id": "XaqWUV0kwkDz",
    "outputId": "8544a1d6-aeb9-4f0c-8c50-22f562f7791f"
   },
   "outputs": [
    {
     "name": "stdout",
     "output_type": "stream",
     "text": [
      "Epoch: 01 | Epoch Time: 0m 23s\n",
      "\tTrain Loss: 0.388 | Train Acc: 87.62%\n",
      "\t Val. Loss: 0.184 |  Val. Acc: 94.00%\n",
      "Epoch: 02 | Epoch Time: 0m 23s\n",
      "\tTrain Loss: 0.168 | Train Acc: 94.54%\n",
      "\t Val. Loss: 0.123 |  Val. Acc: 96.08%\n",
      "Epoch: 03 | Epoch Time: 0m 23s\n",
      "\tTrain Loss: 0.114 | Train Acc: 96.47%\n",
      "\t Val. Loss: 0.109 |  Val. Acc: 96.67%\n",
      "Epoch: 04 | Epoch Time: 0m 23s\n",
      "\tTrain Loss: 0.087 | Train Acc: 97.24%\n",
      "\t Val. Loss: 0.090 |  Val. Acc: 97.22%\n",
      "Epoch: 05 | Epoch Time: 0m 23s\n",
      "\tTrain Loss: 0.071 | Train Acc: 97.79%\n",
      "\t Val. Loss: 0.085 |  Val. Acc: 97.46%\n",
      "Epoch: 06 | Epoch Time: 0m 23s\n",
      "\tTrain Loss: 0.059 | Train Acc: 98.19%\n",
      "\t Val. Loss: 0.077 |  Val. Acc: 97.80%\n",
      "Epoch: 07 | Epoch Time: 0m 23s\n",
      "\tTrain Loss: 0.054 | Train Acc: 98.35%\n",
      "\t Val. Loss: 0.081 |  Val. Acc: 97.79%\n",
      "Epoch: 08 | Epoch Time: 0m 23s\n",
      "\tTrain Loss: 0.046 | Train Acc: 98.61%\n",
      "\t Val. Loss: 0.076 |  Val. Acc: 97.83%\n",
      "Epoch: 09 | Epoch Time: 0m 23s\n",
      "\tTrain Loss: 0.043 | Train Acc: 98.67%\n",
      "\t Val. Loss: 0.081 |  Val. Acc: 97.79%\n",
      "Epoch: 10 | Epoch Time: 0m 23s\n",
      "\tTrain Loss: 0.039 | Train Acc: 98.77%\n",
      "\t Val. Loss: 0.083 |  Val. Acc: 97.79%\n",
      "Epoch: 11 | Epoch Time: 0m 23s\n",
      "\tTrain Loss: 0.036 | Train Acc: 98.88%\n",
      "\t Val. Loss: 0.080 |  Val. Acc: 97.85%\n",
      "Epoch: 12 | Epoch Time: 0m 23s\n",
      "\tTrain Loss: 0.034 | Train Acc: 98.95%\n",
      "\t Val. Loss: 0.080 |  Val. Acc: 97.95%\n",
      "Epoch: 13 | Epoch Time: 0m 23s\n",
      "\tTrain Loss: 0.032 | Train Acc: 99.03%\n",
      "\t Val. Loss: 0.084 |  Val. Acc: 97.94%\n",
      "Epoch: 14 | Epoch Time: 0m 23s\n",
      "\tTrain Loss: 0.031 | Train Acc: 99.03%\n",
      "\t Val. Loss: 0.085 |  Val. Acc: 97.86%\n",
      "Epoch: 15 | Epoch Time: 0m 23s\n",
      "\tTrain Loss: 0.030 | Train Acc: 99.08%\n",
      "\t Val. Loss: 0.090 |  Val. Acc: 97.83%\n",
      "Epoch: 16 | Epoch Time: 0m 23s\n",
      "\tTrain Loss: 0.029 | Train Acc: 99.11%\n",
      "\t Val. Loss: 0.087 |  Val. Acc: 97.89%\n",
      "Epoch: 17 | Epoch Time: 0m 23s\n",
      "\tTrain Loss: 0.028 | Train Acc: 99.13%\n",
      "\t Val. Loss: 0.087 |  Val. Acc: 97.85%\n",
      "Epoch: 18 | Epoch Time: 0m 23s\n",
      "\tTrain Loss: 0.028 | Train Acc: 99.13%\n",
      "\t Val. Loss: 0.093 |  Val. Acc: 97.71%\n",
      "Epoch: 19 | Epoch Time: 0m 23s\n",
      "\tTrain Loss: 0.029 | Train Acc: 99.10%\n",
      "\t Val. Loss: 0.092 |  Val. Acc: 97.85%\n",
      "Epoch: 20 | Epoch Time: 0m 23s\n",
      "\tTrain Loss: 0.029 | Train Acc: 99.10%\n",
      "\t Val. Loss: 0.087 |  Val. Acc: 97.97%\n"
     ]
    }
   ],
   "source": [
    "for epoch in range(EPOCH):\n",
    "    start = time.time()\n",
    "    train_loss, train_acc = train(model, train_iter, optimizer, criterion, LABEL.vocab.stoi['<pad>'])\n",
    "    valid_loss, valid_acc = evaluate(model, valid_iter, criterion, LABEL.vocab.stoi['<pad>'])\n",
    "    end = time.time()\n",
    "    epoch_mins, epoch_secs = epoch_time(start, end)\n",
    "    if valid_loss < best_valid_loss:\n",
    "        best_valid_loss = valid_loss\n",
    "        torch.save({\n",
    "            'epoch' : epoch,\n",
    "            'model_state_dict' : model.state_dict(),\n",
    "            'optimizer_state_dict' : optimizer.state_dict(),\n",
    "            'loss' : best_valid_loss\n",
    "        }, PATH)\n",
    "\n",
    "    print(f'Epoch: {epoch+1:02} | Epoch Time: {epoch_mins}m {epoch_secs}s')\n",
    "    print(f'\\tTrain Loss: {train_loss:.3f} | Train Acc: {train_acc*100:.2f}%')\n",
    "    print(f'\\t Val. Loss: {valid_loss:.3f} |  Val. Acc: {valid_acc*100:.2f}%')"
   ]
  },
  {
   "cell_type": "code",
   "execution_count": 53,
   "metadata": {
    "colab": {
     "base_uri": "https://localhost:8080/"
    },
    "executionInfo": {
     "elapsed": 3150,
     "status": "ok",
     "timestamp": 1639365574783,
     "user": {
      "displayName": "colab google",
      "photoUrl": "https://lh3.googleusercontent.com/a/default-user=s64",
      "userId": "15243667049266710387"
     },
     "user_tz": -420
    },
    "id": "DVqGYapNzXHm",
    "outputId": "852f298e-ca3e-4b37-aedb-641f3a2aa2b1"
   },
   "outputs": [
    {
     "name": "stdout",
     "output_type": "stream",
     "text": [
      "loss 0.140 | acc 96.41%\n"
     ]
    }
   ],
   "source": [
    "checkpoint = torch.load(PATH)\n",
    "model.load_state_dict(checkpoint['model_state_dict'])\n",
    "test_loss, test_acc = evaluate(model, test_iter, criterion, LABEL.vocab.stoi['<pad>'])\n",
    "print(f'loss {test_loss:.3f} | acc {test_acc*100:.2f}%')"
   ]
  },
  {
   "cell_type": "code",
   "execution_count": 55,
   "metadata": {
    "executionInfo": {
     "elapsed": 2856,
     "status": "ok",
     "timestamp": 1639365664461,
     "user": {
      "displayName": "colab google",
      "photoUrl": "https://lh3.googleusercontent.com/a/default-user=s64",
      "userId": "15243667049266710387"
     },
     "user_tz": -420
    },
    "id": "HVYMgK_zFDf3"
   },
   "outputs": [],
   "source": [
    "model.eval()\n",
    "preds = []\n",
    "labels = []\n",
    "with torch.no_grad():\n",
    "    for batch in test_iter:\n",
    "        #pred = [sent, batch size, output_dim]\n",
    "        pred = torch.argmax(model(batch.text, batch.casing, batch.char), dim = 2)  #pred = [sent, batch size]\n",
    "        pred = pred.view(-1).tolist()  #pred = [sent * batch size]\n",
    "        label = batch.label.view(-1).tolist()  #label = [sent * batch size]\n",
    "        for idx in range(len(label)):\n",
    "           if label[idx] < 2 or pred[idx] < 2: continue\n",
    "           preds.append(LABEL.vocab.itos[pred[idx]])\n",
    "           labels.append(LABEL.vocab.itos[label[idx]])"
   ]
  },
  {
   "cell_type": "code",
   "execution_count": 56,
   "metadata": {
    "colab": {
     "base_uri": "https://localhost:8080/"
    },
    "executionInfo": {
     "elapsed": 1461,
     "status": "ok",
     "timestamp": 1639365695744,
     "user": {
      "displayName": "colab google",
      "photoUrl": "https://lh3.googleusercontent.com/a/default-user=s64",
      "userId": "15243667049266710387"
     },
     "user_tz": -420
    },
    "id": "W5zZtXN2IQcY",
    "outputId": "c844f4ae-b57f-46a2-a6e0-c416d840204f"
   },
   "outputs": [
    {
     "name": "stdout",
     "output_type": "stream",
     "text": [
      "              precision    recall  f1-score   support\n",
      "\n",
      "       B-LOC     0.8808    0.9106    0.8954      1566\n",
      "      B-MISC     0.8080    0.8445    0.8258       598\n",
      "       B-ORG     0.8637    0.8294    0.8462      1635\n",
      "       B-PER     0.9035    0.9251    0.9142      1508\n",
      "       I-LOC     0.8082    0.7734    0.7904       256\n",
      "      I-MISC     0.8021    0.7692    0.7853       195\n",
      "       I-ORG     0.8643    0.8654    0.8649       795\n",
      "       I-PER     0.9628    0.9360    0.9492      1188\n",
      "\n",
      "    accuracy                         0.8823      7741\n",
      "   macro avg     0.8617    0.8567    0.8589      7741\n",
      "weighted avg     0.8825    0.8823    0.8822      7741\n",
      "\n"
     ]
    }
   ],
   "source": [
    "from sklearn.metrics import classification_report\n",
    "print(classification_report(preds, labels, digits = 4))"
   ]
  },
  {
   "cell_type": "code",
   "execution_count": 68,
   "metadata": {
    "executionInfo": {
     "elapsed": 372,
     "status": "ok",
     "timestamp": 1639366347884,
     "user": {
      "displayName": "colab google",
      "photoUrl": "https://lh3.googleusercontent.com/a/default-user=s64",
      "userId": "15243667049266710387"
     },
     "user_tz": -420
    },
    "id": "JW7eIeEvdUsd"
   },
   "outputs": [],
   "source": [
    "def pred_sent(sent):\n",
    "    model.eval()\n",
    "    nlp = spacy.load('en_core_web_sm')\n",
    "    tokens = [token.text for token in nlp(sent)]\n",
    "    chars = []\n",
    "    max_word_len = -1\n",
    "    for token in tokens:\n",
    "        if max_word_len < len(token): max_word_len = len(token)\n",
    "        chars.append([char for char in token])\n",
    "\n",
    "    for char_list in chars:\n",
    "        for _ in range(max_word_len - len(char_list)):\n",
    "            char_list.append('<pad>')\n",
    "\n",
    "    token_idx = [TEXT.vocab.stoi[token] for token in tokens]\n",
    "    casing_idx = [CASING.vocab.stoi[getCasing(token)] for token in tokens]\n",
    "    \n",
    "    for x in range(len(chars)):\n",
    "        for y in range(max_word_len):\n",
    "            chars[x][y] = CHAR.vocab.stoi[chars[x][y]]\n",
    "    \n",
    "    token_tensor = torch.LongTensor(token_idx).unsqueeze(-1).to(device)\n",
    "    casing_tensor = torch.LongTensor(casing_idx).unsqueeze(-1).to(device)\n",
    "    char_tensor = torch.LongTensor(chars).unsqueeze(0).to(device)\n",
    "    pred = model(token_tensor, casing_tensor, char_tensor).argmax(-1)\n",
    "    predicted_tags = [LABEL.vocab.itos[x.item()] for x in pred]\n",
    "\n",
    "    return tokens, predicted_tags"
   ]
  },
  {
   "cell_type": "code",
   "execution_count": 75,
   "metadata": {
    "colab": {
     "base_uri": "https://localhost:8080/",
     "height": 645
    },
    "executionInfo": {
     "elapsed": 970,
     "status": "ok",
     "timestamp": 1639366460540,
     "user": {
      "displayName": "colab google",
      "photoUrl": "https://lh3.googleusercontent.com/a/default-user=s64",
      "userId": "15243667049266710387"
     },
     "user_tz": -420
    },
    "id": "bY5TA_N1sA6I",
    "outputId": "33b78af8-1cd4-4e6e-e8c9-8f8f1c68c441"
   },
   "outputs": [
    {
     "data": {
      "text/html": [
       "<div>\n",
       "<style scoped>\n",
       "    .dataframe tbody tr th:only-of-type {\n",
       "        vertical-align: middle;\n",
       "    }\n",
       "\n",
       "    .dataframe tbody tr th {\n",
       "        vertical-align: top;\n",
       "    }\n",
       "\n",
       "    .dataframe thead th {\n",
       "        text-align: right;\n",
       "    }\n",
       "</style>\n",
       "<table border=\"1\" class=\"dataframe\">\n",
       "  <thead>\n",
       "    <tr style=\"text-align: right;\">\n",
       "      <th></th>\n",
       "      <th>token</th>\n",
       "      <th>predicted_tag</th>\n",
       "    </tr>\n",
       "  </thead>\n",
       "  <tbody>\n",
       "    <tr>\n",
       "      <th>0</th>\n",
       "      <td>John</td>\n",
       "      <td>B-PER</td>\n",
       "    </tr>\n",
       "    <tr>\n",
       "      <th>1</th>\n",
       "      <td>lives</td>\n",
       "      <td>O</td>\n",
       "    </tr>\n",
       "    <tr>\n",
       "      <th>2</th>\n",
       "      <td>in</td>\n",
       "      <td>O</td>\n",
       "    </tr>\n",
       "    <tr>\n",
       "      <th>3</th>\n",
       "      <td>New</td>\n",
       "      <td>B-LOC</td>\n",
       "    </tr>\n",
       "    <tr>\n",
       "      <th>4</th>\n",
       "      <td>York</td>\n",
       "      <td>I-LOC</td>\n",
       "    </tr>\n",
       "    <tr>\n",
       "      <th>5</th>\n",
       "      <td>.</td>\n",
       "      <td>O</td>\n",
       "    </tr>\n",
       "    <tr>\n",
       "      <th>6</th>\n",
       "      <td>He</td>\n",
       "      <td>O</td>\n",
       "    </tr>\n",
       "    <tr>\n",
       "      <th>7</th>\n",
       "      <td>just</td>\n",
       "      <td>O</td>\n",
       "    </tr>\n",
       "    <tr>\n",
       "      <th>8</th>\n",
       "      <td>graduted</td>\n",
       "      <td>O</td>\n",
       "    </tr>\n",
       "    <tr>\n",
       "      <th>9</th>\n",
       "      <td>from</td>\n",
       "      <td>O</td>\n",
       "    </tr>\n",
       "    <tr>\n",
       "      <th>10</th>\n",
       "      <td>Harvard</td>\n",
       "      <td>B-ORG</td>\n",
       "    </tr>\n",
       "    <tr>\n",
       "      <th>11</th>\n",
       "      <td>University</td>\n",
       "      <td>I-ORG</td>\n",
       "    </tr>\n",
       "    <tr>\n",
       "      <th>12</th>\n",
       "      <td>.</td>\n",
       "      <td>O</td>\n",
       "    </tr>\n",
       "    <tr>\n",
       "      <th>13</th>\n",
       "      <td>He</td>\n",
       "      <td>O</td>\n",
       "    </tr>\n",
       "    <tr>\n",
       "      <th>14</th>\n",
       "      <td>is</td>\n",
       "      <td>O</td>\n",
       "    </tr>\n",
       "    <tr>\n",
       "      <th>15</th>\n",
       "      <td>working</td>\n",
       "      <td>O</td>\n",
       "    </tr>\n",
       "    <tr>\n",
       "      <th>16</th>\n",
       "      <td>for</td>\n",
       "      <td>O</td>\n",
       "    </tr>\n",
       "    <tr>\n",
       "      <th>17</th>\n",
       "      <td>Google</td>\n",
       "      <td>B-MISC</td>\n",
       "    </tr>\n",
       "    <tr>\n",
       "      <th>18</th>\n",
       "      <td>now</td>\n",
       "      <td>O</td>\n",
       "    </tr>\n",
       "  </tbody>\n",
       "</table>\n",
       "</div>"
      ],
      "text/plain": [
       "         token predicted_tag\n",
       "0         John         B-PER\n",
       "1        lives             O\n",
       "2           in             O\n",
       "3          New         B-LOC\n",
       "4         York         I-LOC\n",
       "5            .             O\n",
       "6           He             O\n",
       "7         just             O\n",
       "8     graduted             O\n",
       "9         from             O\n",
       "10     Harvard         B-ORG\n",
       "11  University         I-ORG\n",
       "12           .             O\n",
       "13          He             O\n",
       "14          is             O\n",
       "15     working             O\n",
       "16         for             O\n",
       "17      Google        B-MISC\n",
       "18         now             O"
      ]
     },
     "execution_count": 75,
     "metadata": {},
     "output_type": "execute_result"
    }
   ],
   "source": [
    "sentence = 'John lives in New York. He just graduted from Harvard University. He is working for Google now'\n",
    "tokens, predicted_tags = pred_sent(sentence)\n",
    "\n",
    "test_df = pd.DataFrame({'token' : tokens,\n",
    "                        'predicted_tag': predicted_tags})\n",
    "test_df"
   ]
  }
 ],
 "metadata": {
  "accelerator": "GPU",
  "colab": {
   "authorship_tag": "ABX9TyNhDmLDSESINC7dJGLNAnwU",
   "collapsed_sections": [],
   "name": "bilstm_cnn.ipynb",
   "provenance": []
  },
  "kernelspec": {
   "display_name": "Python 3",
   "language": "python",
   "name": "python3"
  },
  "language_info": {
   "codemirror_mode": {
    "name": "ipython",
    "version": 3
   },
   "file_extension": ".py",
   "mimetype": "text/x-python",
   "name": "python",
   "nbconvert_exporter": "python",
   "pygments_lexer": "ipython3",
   "version": "3.7.6"
  }
 },
 "nbformat": 4,
 "nbformat_minor": 1
}
